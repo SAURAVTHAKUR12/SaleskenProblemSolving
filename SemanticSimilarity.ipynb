{
 "cells": [
  {
   "cell_type": "code",
   "execution_count": 165,
   "metadata": {},
   "outputs": [],
   "source": [
    "import pandas as pd\n",
    "from nltk.cluster.util import cosine_distance\n",
    "import numpy as np"
   ]
  },
  {
   "cell_type": "code",
   "execution_count": 177,
   "metadata": {},
   "outputs": [],
   "source": [
    "#Reading the input file\n",
    "def filereader(file):\n",
    "    statements=[]\n",
    "    reader =open(file, 'r')\n",
    "    for line in reader:\n",
    "        statements.append(line)\n",
    "\n",
    "    for line in range(0,len(statements)):\n",
    "        statements[line]=statements[line].replace(\"\\r\\n\", \"\").split(\" \") #removing unused tags in the dataset\n",
    "    return statements"
   ]
  },
  {
   "cell_type": "code",
   "execution_count": 179,
   "metadata": {},
   "outputs": [],
   "source": [
    "def sentenceSimilarityScore(sentA, sentB):\n",
    "    all_words = list(set(sentA+sentB))\n",
    "    vecA = [0]*len(all_words)\n",
    "    vecB = [0]*len(all_words)\n",
    "    for w in sentA:\n",
    "        vecA[all_words.index(w)]+=1\n",
    "    for w in sentB:\n",
    "        vecB[all_words.index(w)]+=1\n",
    "    return 1-cosine_distance(vecA, vecB)\n"
   ]
  },
  {
   "cell_type": "code",
   "execution_count": 183,
   "metadata": {},
   "outputs": [],
   "source": [
    "def SimilarityMatrix(statements):\n",
    "    sim_matrix = np.zeros((len(statements),len(statements)))\n",
    "    #verify above\n",
    "    for i in range(len(statements)):\n",
    "        for j in range(len(statements)):\n",
    "            if i==j:\n",
    "                continue\n",
    "            sim_matrix[i][j] = sentenceSimilarityScore(statements[i], statements[j])\n",
    "    return sim_matrix\n"
   ]
  },
  {
   "cell_type": "code",
   "execution_count": 207,
   "metadata": {},
   "outputs": [],
   "source": [
    "def MatrixtoStatements(soltuple, statements):\n",
    "    for i in range(len(soltuple)):\n",
    "        if (soltuple[i] == -2):\n",
    "            print(statements[i])\n",
    "            continue\n",
    "        if (soltuple[i] == 0):\n",
    "            continue\n",
    "        output = statements[i], statements[soltuple[i]]\n",
    "        print[[' '.join(j)] for j in output]"
   ]
  },
  {
   "cell_type": "code",
   "execution_count": 208,
   "metadata": {},
   "outputs": [
    {
     "name": "stdout",
     "output_type": "stream",
     "text": [
      "[['good morning'], ['good afternoon']]\n",
      "[['how are you doing ?'], ['are you doing good ?']]\n",
      "[['the weather is awesome today'], ['baseball is played in the USA']]\n",
      "['samsung']\n",
      "[['there is a thunderstorm '], ['cricket is a fun game']]\n",
      "['The', 'polar', 'regions', 'are', 'melting\"']\n",
      "['apple']\n",
      "['nokia']\n",
      "['the', 'climate', 'change', 'is', 'a', 'problem']\n"
     ]
    }
   ],
   "source": [
    "statements = filereader('list_of_sentences')\n",
    "sim_matrix = SimilarityMatrix(statements)\n",
    "soltuple=[0]*len(statements)\n",
    "visited=np.zeros(len(statements))\n",
    "for i in range (0,len(statements)):\n",
    "    max=0;\n",
    "    if(visited[i]!=0):\n",
    "        continue\n",
    "    visited[i]=1\n",
    "    occurence = -2\n",
    "    for j in range(i,len(statements)):\n",
    "        if(visited[j]!=0):\n",
    "            continue\n",
    "        if (sim_matrix[i][j]>max):\n",
    "            max = sim_matrix[i][j]\n",
    "            occurence = j\n",
    "    soltuple[i]=occurence\n",
    "    if(occurence!=-2):\n",
    "        visited[occurence]=1   \n",
    "MatrixtoStatements(soltuple, statements)"
   ]
  },
  {
   "cell_type": "code",
   "execution_count": null,
   "metadata": {},
   "outputs": [],
   "source": []
  }
 ],
 "metadata": {
  "kernelspec": {
   "display_name": "Python 3",
   "language": "python",
   "name": "python3"
  },
  "language_info": {
   "codemirror_mode": {
    "name": "ipython",
    "version": 2
   },
   "file_extension": ".py",
   "mimetype": "text/x-python",
   "name": "python",
   "nbconvert_exporter": "python",
   "pygments_lexer": "ipython2",
   "version": "2.7.17"
  }
 },
 "nbformat": 4,
 "nbformat_minor": 4
}
