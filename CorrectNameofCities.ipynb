{
  "nbformat": 4,
  "nbformat_minor": 0,
  "metadata": {
    "colab": {
      "name": "CorrectNameofCities.ipynb",
      "provenance": [],
      "collapsed_sections": []
    },
    "kernelspec": {
      "name": "python3",
      "display_name": "Python 3"
    },
    "accelerator": "GPU"
  },
  "cells": [
    {
      "cell_type": "code",
      "metadata": {
        "id": "yBCkZQFWggDO",
        "colab_type": "code",
        "colab": {}
      },
      "source": [
        "import csv\n",
        "import pandas as pd"
      ],
      "execution_count": 0,
      "outputs": []
    },
    {
      "cell_type": "code",
      "metadata": {
        "id": "EKiY041EibMI",
        "colab_type": "code",
        "colab": {}
      },
      "source": [
        "#Reading input files\n",
        "readerA =pd.read_csv('Correct_cities.csv')\n",
        "readerB=pd.read_csv('Misspelt_cities.csv')\n"
      ],
      "execution_count": 0,
      "outputs": []
    },
    {
      "cell_type": "code",
      "metadata": {
        "id": "wp3QjCPZEQN4",
        "colab_type": "code",
        "colab": {}
      },
      "source": [
        "#Storing correct city names in a dictionary with country name as key and tuple of city name and id as value\n",
        "Correctcities={}\n",
        "for index, row in readerA.iterrows():\n",
        "  if row['country'] not in Correctcities.keys():\n",
        "    Correctcities[row['country']]=[]\n",
        "  Correctcities[row['country']].append([row['name'], row['id']])\n"
      ],
      "execution_count": 0,
      "outputs": []
    },
    {
      "cell_type": "code",
      "metadata": {
        "id": "p3FqeS2xhhM_",
        "colab_type": "code",
        "colab": {}
      },
      "source": [
        "#Comparing 2 names for similarities\n",
        "def compare(correctName, incorrectName):\n",
        "  if(len(correctName) != len(incorrectName)):\n",
        "    return False\n",
        "  maxdiff  = 0.2 * len(correctName)\n",
        "  counter = 0\n",
        "  for i in range (0, len(correctName)):\n",
        "    if(correctName[i] != incorrectName[i]):\n",
        "      counter+=1\n",
        "    if(counter>=maxdiff):\n",
        "      return False\n",
        "  return True\n"
      ],
      "execution_count": 0,
      "outputs": []
    },
    {
      "cell_type": "code",
      "metadata": {
        "id": "6dsKyxhU5G1a",
        "colab_type": "code",
        "colab": {}
      },
      "source": [
        "#Iterating over misspelt names and fetching there right tags using the compare function\n",
        "answer =[0]*len(readerB)\n",
        "i = 0\n",
        "for index, row in readerB.iterrows():\n",
        "    for value in Correctcities[row['country']]:\n",
        "      if(compare(value[0],row['misspelt_name'])):\n",
        "        answer[i]=value[1]\n",
        "        break\n",
        "    i=i+1"
      ],
      "execution_count": 0,
      "outputs": []
    },
    {
      "cell_type": "code",
      "metadata": {
        "id": "qLrlN4AW5Gva",
        "colab_type": "code",
        "colab": {
          "base_uri": "https://localhost:8080/",
          "height": 51
        },
        "outputId": "8ec867a6-78ae-401b-a2e1-7ed221a0eef8"
      },
      "source": [
        "print(len(answer))\n",
        "print(answer[0:10])"
      ],
      "execution_count": 8,
      "outputs": [
        {
          "output_type": "stream",
          "text": [
            "23018\n"
          ],
          "name": "stdout"
        },
        {
          "output_type": "execute_result",
          "data": {
            "text/plain": [
              "[720276, 513883, 0, 2503620, 5336899, 1696165, 1610185, 0, 4921402, 3169522]"
            ]
          },
          "metadata": {
            "tags": []
          },
          "execution_count": 8
        }
      ]
    }
  ]
}