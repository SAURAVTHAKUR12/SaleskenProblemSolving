{
 "cells": [
  {
   "cell_type": "code",
   "execution_count": 278,
   "metadata": {},
   "outputs": [],
   "source": [
    "import pandas as pd\n",
    "from nltk.cluster.util import cosine_distance\n",
    "import numpy as np\n",
    "from flask import Flask, request\n",
    "application = Flask(__name__)"
   ]
  },
  {
   "cell_type": "code",
   "execution_count": 279,
   "metadata": {},
   "outputs": [],
   "source": [
    "#Reading the input file\n",
    "def filereader(file):\n",
    "    statements=[]\n",
    "    reader =open(file, 'r')\n",
    "    for line in reader:\n",
    "        statements.append(line)\n",
    "\n",
    "    for line in range(0,len(statements)):\n",
    "        statements[line]=statements[line].replace(\"\\r\\n\", \"\").split(\" \") #removing unused tags in the dataset\n",
    "    return statements"
   ]
  },
  {
   "cell_type": "code",
   "execution_count": 280,
   "metadata": {},
   "outputs": [],
   "source": [
    "def sentenceSimilarityScore(sentA, sentB):\n",
    "    all_words = list(set(sentA+sentB))\n",
    "    vecA = [0]*len(all_words)\n",
    "    vecB = [0]*len(all_words)\n",
    "    for w in sentA:\n",
    "        vecA[all_words.index(w)]+=1\n",
    "    for w in sentB:\n",
    "        vecB[all_words.index(w)]+=1\n",
    "    return 1-cosine_distance(vecA, vecB)\n"
   ]
  },
  {
   "cell_type": "code",
   "execution_count": 281,
   "metadata": {},
   "outputs": [],
   "source": [
    "def SimilarityMatrix(statements):\n",
    "    sim_matrix = np.zeros((len(statements),len(statements)))\n",
    "    #verify above\n",
    "    for i in range(len(statements)):\n",
    "        for j in range(len(statements)):\n",
    "            if i==j:\n",
    "                continue\n",
    "            sim_matrix[i][j] = sentenceSimilarityScore(statements[i], statements[j])\n",
    "    return sim_matrix\n"
   ]
  },
  {
   "cell_type": "code",
   "execution_count": 282,
   "metadata": {},
   "outputs": [],
   "source": [
    "def MatrixtoStatements(soltuple, statements):\n",
    "    output =[]\n",
    "    for i in range(len(soltuple)):\n",
    "        if (soltuple[i] == -2):\n",
    "            output.append(statements[i])\n",
    "            continue\n",
    "        if (soltuple[i] == 0):\n",
    "            continue\n",
    "        ans = statements[i], statements[soltuple[i]]\n",
    "        output.append(ans)\n",
    "        return output"
   ]
  },
  {
   "cell_type": "code",
   "execution_count": 283,
   "metadata": {},
   "outputs": [],
   "source": [
    "@application.route('/semantic/similarity',methods=['POST'])\n",
    "def SemanticSimilarity():\n",
    "    statement = request.get_json()\n",
    "    statements = statement['name']\n",
    "    for line in range(0,len(statements)):\n",
    "        statements[line]=statements[line].replace(\"\\r\\n\", \"\").split(\" \") \n",
    "    sim_matrix = SimilarityMatrix(statements)\n",
    "    soltuple=[0]*len(statements)\n",
    "    visited=np.zeros(len(statements))\n",
    "    for i in range (0,len(statements)):\n",
    "        max=0;\n",
    "        if(visited[i]!=0):\n",
    "            continue\n",
    "        visited[i]=1\n",
    "        occurence = -2\n",
    "        for j in range(i,len(statements)):\n",
    "            if(visited[j]!=0):\n",
    "                continue\n",
    "            if (sim_matrix[i][j]>max):\n",
    "                max = sim_matrix[i][j]\n",
    "                occurence = j\n",
    "        soltuple[i]=occurence\n",
    "        if(occurence!=-2):\n",
    "            visited[occurence]=1   \n",
    "    answer = MatrixtoStatements(soltuple, statements)\n",
    "    response = ''.join(str(a) for a in answer)\n",
    "    return response\n"
   ]
  },
  {
   "cell_type": "code",
   "execution_count": null,
   "metadata": {},
   "outputs": [],
   "source": [
    "application.run(host = '0.0.0.0')"
   ]
  }
 ],
 "metadata": {
  "kernelspec": {
   "display_name": "Python 3",
   "language": "python",
   "name": "python3"
  },
  "language_info": {
   "codemirror_mode": {
    "name": "ipython",
    "version": 2
   },
   "file_extension": ".py",
   "mimetype": "text/x-python",
   "name": "python",
   "nbconvert_exporter": "python",
   "pygments_lexer": "ipython2",
   "version": "2.7.17"
  }
 },
 "nbformat": 4,
 "nbformat_minor": 4
}
